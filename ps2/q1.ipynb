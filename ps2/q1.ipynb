{
 "cells": [
  {
   "cell_type": "code",
   "execution_count": 1,
   "metadata": {},
   "outputs": [
    {
     "name": "stdout",
     "output_type": "stream",
     "text": [
      "[[1.        0.9795561]\n",
      " [0.9795561 1.       ]]\n"
     ]
    }
   ],
   "source": [
    "import matplotlib.pyplot as plt\n",
    "import pandas as pd\n",
    "import numpy as np\n",
    "#correlation using numpy\n",
    "\n",
    "x=np.array([2,3,5,7,9])\n",
    "y=np.array([4,5,7,10,15])\n",
    "r=np.corrcoef(x,y)\n",
    "print(r)"
   ]
  },
  {
   "cell_type": "code",
   "execution_count": 2,
   "metadata": {},
   "outputs": [
    {
     "name": "stdout",
     "output_type": "stream",
     "text": [
      "   x-values  y-values\n",
      "0         2         4\n",
      "1         3         5\n",
      "2         5         7\n",
      "3         7        10\n",
      "4         9        15 \n",
      "\n",
      "          x-values  y-values\n",
      "x-values  1.000000  0.979556\n",
      "y-values  0.979556  1.000000\n"
     ]
    }
   ],
   "source": [
    "#correlation using pandas\n",
    "import numpy as np\n",
    "x=pd.Series([2,3,5,7,9])\n",
    "y=pd.Series([4,5,7,10,15])\n",
    "df=pd.DataFrame({'x-values': x, 'y-values':y})\n",
    "r=df.corr()\n",
    "print(df ,'\\n')\n",
    "print(r)\n",
    "#print(x.corr(y))\n",
    "#print(y.corr(x,method=\"spearman\"))\n",
    "#print(x.corr(y,method=\"kendall\"))"
   ]
  },
  {
   "cell_type": "code",
   "execution_count": 3,
   "metadata": {},
   "outputs": [
    {
     "name": "stdout",
     "output_type": "stream",
     "text": [
      "coefficiant of determination:  0.9595301473319302\n",
      "intercept:  0.3048780487804894\n",
      "slope [1.51829268]\n",
      "The linear regression equation is: y = 0.30 + 1.52x\n",
      "Predicted values: [ 3.34146341  4.8597561   7.89634146 10.93292683 13.9695122 ]\n",
      "least square of errors:  3.189024390243903\n"
     ]
    }
   ],
   "source": [
    "# linear regression\n",
    "from sklearn.linear_model import LinearRegression\n",
    "import seaborn as sns\n",
    "x=np.array([2,3,5,7,9]).reshape((-1,1)) #should be in 2D i.e one column\n",
    "y=np.array([4,5,7,10,15]) #remains same i.r one row\n",
    "model=LinearRegression()\n",
    "model.fit(x,y)\n",
    "r_sq=model.score(x,y)\n",
    "intercept=model.intercept_\n",
    "slope=model.coef_[0]\n",
    "print(\"coefficiant of determination: \",r_sq)\n",
    "print(\"intercept: \",model.intercept_) #b0\n",
    "print(\"slope\",model.coef_) #b1\n",
    "print(f\"The linear regression equation is: y = {intercept:.2f} + {slope:.2f}x\") #linear regression EQUATION \n",
    "\n",
    "y_pred = model.predict(x)\n",
    "print(\"Predicted values:\", y_pred)\n",
    "\n",
    "#calculate residuals\n",
    "residuals=y-y_pred\n",
    "\n",
    "#least square of errors\n",
    "sse=np.sum(residuals**2)\n",
    "print(\"least square of errors: \",sse)"
   ]
  },
  {
   "cell_type": "code",
   "execution_count": 4,
   "metadata": {},
   "outputs": [
    {
     "name": "stdout",
     "output_type": "stream",
     "text": [
      "coefficiant of determination:  0.9931636433184421\n",
      "intercept of outliers:  0.4876160990712073\n",
      "slope of outliers:  1.479876160990712\n",
      "linear regression equation is : y= 0.49+1.48x\n",
      "predicted values:  [ 3.34146341  4.8597561   7.89634146 10.93292683 13.9695122  30.67073171]\n",
      "least square of errors:  3.6389054134443706\n",
      "0.9595301473319302\n"
     ]
    }
   ],
   "source": [
    "#OUTLIERS\n",
    "x_outliers=np.append(x,[[20]],axis=0)\n",
    "y_outliers=np.append(y,[[30]])\n",
    "model1=LinearRegression().fit(x_outliers,y_outliers)\n",
    "rsq=model1.score(x_outliers,y_outliers)\n",
    "intercept_outliers=model1.intercept_\n",
    "slope_outliers=model1.coef_[0]\n",
    "print(\"coefficiant of determination: \",rsq)\n",
    "print(\"intercept of outliers: \",intercept_outliers) #b0\n",
    "print(\"slope of outliers: \",slope_outliers)   #b1\n",
    "print(f\"linear regression equation is : y= {intercept_outliers:.2f}+{slope_outliers:.2f}x\")\n",
    "y_predout=model.predict(x_outliers)\n",
    "print(\"predicted values: \",y_predout)\n",
    "\n",
    "#calculate residuals\n",
    "residual_out=y_outliers-y_predout\n",
    "lse=np.sum(residual_out**2)\n",
    "print(\"least square of errors: \",lse)\n",
    "print(model.score(x,y))"
   ]
  },
  {
   "cell_type": "code",
   "execution_count": 5,
   "metadata": {},
   "outputs": [
    {
     "data": {
      "image/png": "[encoded data removed]",
      "text/plain": [
       "<Figure size 640x480 with 1 Axes>"
      ]
     },
     "metadata": {},
     "output_type": "display_data"
    }
   ],
   "source": [
    "#BOX PLOT\n",
    "import matplotlib.pyplot as plt\n",
    "sns.boxplot(data=[y,y_outliers])\n",
    "plt.xticks([0, 1], ['Original Data', 'Data with Outlier'])\n",
    "plt.ylabel('Values')\n",
    "plt.title(\"Box plot to detect outliers\")\n",
    "plt.show()"
   ]
  }
 ],
 "metadata": {
  "kernelspec": {
   "display_name": "Python 3",
   "language": "python",
   "name": "python3"
  },
  "language_info": {
   "codemirror_mode": {
    "name": "ipython",
    "version": 3
   },
   "file_extension": ".py",
   "mimetype": "text/x-python",
   "name": "python",
   "nbconvert_exporter": "python",
   "pygments_lexer": "ipython3",
   "version": "3.11.9"
  }
 },
 "nbformat": 4,
 "nbformat_minor": 2
}
